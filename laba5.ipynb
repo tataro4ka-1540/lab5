{
 "cells": [
  {
   "cell_type": "code",
   "execution_count": 69,
   "id": "95ff4c50",
   "metadata": {},
   "outputs": [],
   "source": [
    "from datetime import datetime"
   ]
  },
  {
   "cell_type": "code",
   "execution_count": 70,
   "id": "a2088306",
   "metadata": {},
   "outputs": [],
   "source": [
    "class Event:\n",
    "    def __init__(self, importance : int):\n",
    "        if importance == 1 or importance == 2 or importance == 3:\n",
    "            self.time = datetime.now()\n",
    "            self.importance = importance\n",
    "            if importance == 1:\n",
    "                self.message = 'все хорошо'\n",
    "            elif importance == 2:\n",
    "                self.message = 'что-то мне не очень'\n",
    "            else:\n",
    "                self.message = 'все пропало'\n",
    "    def __str__(self):\n",
    "         return f\"[{self.time.strftime('%Y-%m-%d %H:%M:%S')}] {self.importance}: {self.message}\""
   ]
  },
  {
   "cell_type": "code",
   "execution_count": 71,
   "id": "359955bd",
   "metadata": {},
   "outputs": [],
   "source": [
    "class EventLogger:\n",
    "    _instance = None\n",
    "    _events = []\n",
    "    def __new__(cls):\n",
    "        if cls._instance is None:\n",
    "            cls._instance = super().__new__(cls)\n",
    "            cls._events = []\n",
    "        return cls._instance\n",
    "\n",
    "    def log(self, event):\n",
    "        self._events.append(event)\n",
    "        if len(self._events) > 10:\n",
    "            self._events.pop(0)\n",
    "\n",
    "    def print_last_events(self):\n",
    "        for event in self._events:\n",
    "            print(str(event))"
   ]
  },
  {
   "cell_type": "code",
   "execution_count": 90,
   "id": "4850176e",
   "metadata": {},
   "outputs": [
    {
     "name": "stdout",
     "output_type": "stream",
     "text": [
      "Введите команду: 1 - нормальное, 2 - замечание, 3 - ошибка. Чтобы увидеть последние 10 событий введите 4. Чтобы выйти введите exit\n",
      "введите команду: 2\n",
      "введите команду: 3\n",
      "введите команду: 1\n",
      "введите команду: 2\n",
      "введите команду: 3\n",
      "введите команду: 4\n",
      "[2023-06-02 02:07:22] 1: все хорошо\n",
      "[2023-06-02 02:07:22] 3: все пропало\n",
      "[2023-06-02 02:11:38] 1: все хорошо\n",
      "[2023-06-02 02:11:48] 1: все хорошо\n",
      "[2023-06-02 02:11:53] 1: все хорошо\n",
      "[2023-06-02 02:13:31] 2: что-то мне не очень\n",
      "[2023-06-02 02:13:32] 3: все пропало\n",
      "[2023-06-02 02:13:33] 1: все хорошо\n",
      "[2023-06-02 02:13:33] 2: что-то мне не очень\n",
      "[2023-06-02 02:13:34] 3: все пропало\n",
      "введите команду: exit\n",
      "[2023-06-02 02:07:22] 1: все хорошо\n",
      "[2023-06-02 02:07:22] 3: все пропало\n",
      "[2023-06-02 02:11:38] 1: все хорошо\n",
      "[2023-06-02 02:11:48] 1: все хорошо\n",
      "[2023-06-02 02:11:53] 1: все хорошо\n",
      "[2023-06-02 02:13:31] 2: что-то мне не очень\n",
      "[2023-06-02 02:13:32] 3: все пропало\n",
      "[2023-06-02 02:13:33] 1: все хорошо\n",
      "[2023-06-02 02:13:33] 2: что-то мне не очень\n",
      "[2023-06-02 02:13:34] 3: все пропало\n"
     ]
    }
   ],
   "source": [
    "logger = EventLogger()\n",
    "print('Введите команду: 1 - нормальное, 2 - замечание, 3 - ошибка. Чтобы увидеть последние 10 событий введите 4. Чтобы выйти введите exit')\n",
    "com = ''\n",
    "while com != 'exit':\n",
    "    com = input(\"введите команду: \")\n",
    "    if com == '1':\n",
    "        logger.log(Event(1))\n",
    "    elif com == '2':\n",
    "        logger.log(Event(2))\n",
    "    elif com == '3':\n",
    "        logger.log(Event(3))\n",
    "    elif com == '4':\n",
    "        logger.print_last_events()\n",
    "logger.print_last_events() "
   ]
  }
 ],
 "metadata": {
  "kernelspec": {
   "display_name": "Python 3 (ipykernel)",
   "language": "python",
   "name": "python3"
  },
  "language_info": {
   "codemirror_mode": {
    "name": "ipython",
    "version": 3
   },
   "file_extension": ".py",
   "mimetype": "text/x-python",
   "name": "python",
   "nbconvert_exporter": "python",
   "pygments_lexer": "ipython3",
   "version": "3.10.6"
  }
 },
 "nbformat": 4,
 "nbformat_minor": 5
}
